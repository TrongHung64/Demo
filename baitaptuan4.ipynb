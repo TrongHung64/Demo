{
  "nbformat": 4,
  "nbformat_minor": 0,
  "metadata": {
    "colab": {
      "name": "baitaptuan4.ipynb",
      "provenance": [],
      "include_colab_link": true
    },
    "kernelspec": {
      "name": "python3",
      "display_name": "Python 3"
    }
  },
  "cells": [
    {
      "cell_type": "markdown",
      "metadata": {
        "id": "view-in-github",
        "colab_type": "text"
      },
      "source": [
        "<a href=\"https://colab.research.google.com/github/TrongHung64/Demo/blob/dev/baitaptuan4.ipynb\" target=\"_parent\"><img src=\"https://colab.research.google.com/assets/colab-badge.svg\" alt=\"Open In Colab\"/></a>"
      ]
    },
    {
      "cell_type": "code",
      "metadata": {
        "colab": {
          "base_uri": "https://localhost:8080/"
        },
        "id": "hCRmaek_cbxF",
        "outputId": "adeebb8d-84a4-45cb-b94a-f6e03fcf528f"
      },
      "source": [
        "open('sales.db','w')"
      ],
      "execution_count": 1,
      "outputs": [
        {
          "output_type": "execute_result",
          "data": {
            "text/plain": [
              "<_io.TextIOWrapper name='sales.db' mode='w' encoding='UTF-8'>"
            ]
          },
          "metadata": {
            "tags": []
          },
          "execution_count": 1
        }
      ]
    },
    {
      "cell_type": "code",
      "metadata": {
        "id": "h03Il5mCeEyC"
      },
      "source": [
        "import sqlite3\n",
        "conn = sqlite3.connect('sales.db')\n",
        "c = conn.cursor()"
      ],
      "execution_count": 2,
      "outputs": []
    },
    {
      "cell_type": "code",
      "metadata": {
        "colab": {
          "base_uri": "https://localhost:8080/"
        },
        "id": "iGJBJlvRet-Q",
        "outputId": "3d5656fe-8fbc-4784-ace8-02a306209c73"
      },
      "source": [
        "c.execute(\"create table Employee \\\n",
        "    (\\\n",
        "        Employee_ID interger primary key, \\\n",
        "        First_Name text, \\\n",
        "        Last_Name text, \\\n",
        "        Department text, \\\n",
        "        City text \\\n",
        "    )\\\n",
        "\")\n",
        " "
      ],
      "execution_count": 3,
      "outputs": [
        {
          "output_type": "execute_result",
          "data": {
            "text/plain": [
              "<sqlite3.Cursor at 0x7fc69c8a2960>"
            ]
          },
          "metadata": {
            "tags": []
          },
          "execution_count": 3
        }
      ]
    },
    {
      "cell_type": "code",
      "metadata": {
        "id": "qj2JS20pg5al"
      },
      "source": [
        "c.execute('delete from employee')"
      ],
      "execution_count": null,
      "outputs": []
    },
    {
      "cell_type": "code",
      "metadata": {
        "colab": {
          "base_uri": "https://localhost:8080/"
        },
        "id": "PmiOvQZ2gO-8",
        "outputId": "b726603a-c940-498f-fd5f-79215efd537e"
      },
      "source": [
        "c.execute(\"select * from Employee\")\n",
        "print(c.fetchall())"
      ],
      "execution_count": 7,
      "outputs": [
        {
          "output_type": "stream",
          "text": [
            "[(10001, 'daniel', 'olson', 'Electronics', 'San Franciso'), (10002, 'Nick', 'Markmen', 'Clothes', 'San Francisco'), (10003, 'Maria', 'Gonzales', 'Electronics', 'San Jose'), (10004, 'George', 'Wong', 'Clothes', 'San Francisco'), (10005, 'Stephanie', 'Wiliams', 'Clothes', 'Oakland'), (10006, 'Miguel', 'Alva', 'Clothes', 'Oakland'), (10007, 'Jessica', 'Collins', 'Cosmetics', 'San Francisco'), (10008, 'Ted', 'Anderson', 'Clothes', 'Oakland'), (10009, 'Victoria', 'Garcia', 'Clothes', 'San Jose'), (100010, 'Jasnine', 'Khan', 'Pharmacy, Health & Beauty', 'Oakland'), (100011, 'Adam', 'Smith', 'Pharmacy, Health & Beauty', 'San Jose'), (100012, 'Rachel', 'Kim', 'Electronics', 'San Jose')]\n"
          ],
          "name": "stdout"
        }
      ]
    },
    {
      "cell_type": "code",
      "metadata": {
        "colab": {
          "base_uri": "https://localhost:8080/"
        },
        "id": "QZk-b-Klg7J5",
        "outputId": "c0784028-26a6-453c-81de-25a81a96a2e1"
      },
      "source": [
        "c.execute(\"insert into Employee values(10001,'daniel', 'olson', 'Electronics', 'San Franciso')\")"
      ],
      "execution_count": 5,
      "outputs": [
        {
          "output_type": "execute_result",
          "data": {
            "text/plain": [
              "<sqlite3.Cursor at 0x7fc69c8a2960>"
            ]
          },
          "metadata": {
            "tags": []
          },
          "execution_count": 5
        }
      ]
    },
    {
      "cell_type": "code",
      "metadata": {
        "colab": {
          "base_uri": "https://localhost:8080/"
        },
        "id": "shiMCe2OmQiy",
        "outputId": "13fdaae0-330c-4080-c976-91a3d6c6c044"
      },
      "source": [
        "mangemployee = [\n",
        "(10002, 'Nick', 'Markmen', 'Clothes', 'San Francisco'),\n",
        "(10003, 'Maria', 'Gonzales', 'Electronics', 'San Jose'),\n",
        "(10004, 'George', 'Wong', 'Clothes', 'San Francisco'),\n",
        "(10005, 'Stephanie', 'Wiliams', 'Clothes', 'Oakland'),\n",
        "(10006, 'Miguel', 'Alva', 'Clothes', 'Oakland'),\n",
        "(10007, 'Jessica', 'Collins', 'Cosmetics', 'San Francisco'),\n",
        "(10008, 'Ted', 'Anderson', 'Clothes', 'Oakland'),\n",
        "(10009, 'Victoria', 'Garcia', 'Clothes', 'San Jose'),\n",
        "(100010, 'Jasnine', 'Khan', 'Pharmacy, Health & Beauty', 'Oakland'),\n",
        "(100011, 'Adam', 'Smith', 'Pharmacy, Health & Beauty', 'San Jose'),\n",
        "(100012, 'Rachel', 'Kim', 'Electronics', 'San Jose'),\n",
        "]\n",
        "c.executemany('insert into Employee values(?,?,?,?,?)', mangemployee)"
      ],
      "execution_count": 6,
      "outputs": [
        {
          "output_type": "execute_result",
          "data": {
            "text/plain": [
              "<sqlite3.Cursor at 0x7fc69c8a2960>"
            ]
          },
          "metadata": {
            "tags": []
          },
          "execution_count": 6
        }
      ]
    },
    {
      "cell_type": "code",
      "metadata": {
        "colab": {
          "base_uri": "https://localhost:8080/"
        },
        "id": "NsYYRQ4DtuXG",
        "outputId": "d9935f47-a6bf-471f-ba59-0fbaaf1c90f9"
      },
      "source": [
        "c.execute(\"create table Customer (\\\n",
        "            Customer_ID integer primary key, \\\n",
        "            First_Name text, \\\n",
        "            Last_Name text, \\\n",
        "            City text)\")"
      ],
      "execution_count": 8,
      "outputs": [
        {
          "output_type": "execute_result",
          "data": {
            "text/plain": [
              "<sqlite3.Cursor at 0x7fc69c8a2960>"
            ]
          },
          "metadata": {
            "tags": []
          },
          "execution_count": 8
        }
      ]
    },
    {
      "cell_type": "code",
      "metadata": {
        "id": "uiKuoB9wvyNU"
      },
      "source": [
        "customers = [\n",
        "(20001, 'Jack', 'Ward', 'San Jose'),\n",
        "(20002, 'Steven', 'Martinez', 'San Francisco'),\n",
        "(20003, 'George', 'Wong', 'Clothes', 'San Francisco'),\n",
        "(20004, 'Stephanie', 'Wiliams', 'Clothes', 'Oakland'),\n",
        "(20005, 'Miguel', 'Alva', 'Clothes', 'Oakland'),\n",
        "(20006, 'Jessica', 'Collins', 'Cosmetics', 'San Francisco'),\n",
        "(20007, 'Ted', 'Anderson', 'Clothes', 'Oakland'),\n",
        "(20008, 'Victoria', 'Garcia', 'Clothes', 'San Jose'),\n",
        "(20009, 'Victoria', 'Garcia', 'Clothes', 'San Jose'),\n",
        "(200010, 'Jasnine', 'Khan', 'Pharmacy, Health & Beauty', 'Oakland'),\n",
        "(200011, 'Adam', 'Smith', 'Pharmacy, Health & Beauty', 'San Jose'),\n",
        "(200012, 'Rachel', 'Kim', 'Electronics', 'San Jose'),\n",
        "]\n",
        "c.executemany('insert into Employee values(?,?,?,?,?)', mangemployee)"
      ],
      "execution_count": null,
      "outputs": []
    },
    {
      "cell_type": "code",
      "metadata": {
        "colab": {
          "base_uri": "https://localhost:8080/"
        },
        "id": "GOYgtXirvnSG",
        "outputId": "e2d5508f-d9c7-4121-dad2-e385ca62f3a5"
      },
      "source": [
        "c.execute(\"select * from Customer\")\n",
        "print(c.fetchall())"
      ],
      "execution_count": 9,
      "outputs": [
        {
          "output_type": "stream",
          "text": [
            "[]\n"
          ],
          "name": "stdout"
        }
      ]
    }
  ]
}